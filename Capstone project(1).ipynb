{
 "cells": [
  {
   "cell_type": "markdown",
   "metadata": {
    "slideshow": {
     "slide_type": "slide"
    }
   },
   "source": [
    "## Capstone project: Goals\n",
    "* Goals\n",
    "  * Data extraction\n",
    "      * Download a publicly available dataset. \n",
    "      * Describe the dataset \n",
    "      * Describe what question you intend to answer with the dataset\n",
    "  * Data cleanup\n",
    "      * Write a script/function to clean up the dataset. \n",
    "      * This might involve\n",
    "        - cleaning up columns\n",
    "        - removing/filling missing data\n",
    "  * Data visualization\n",
    "      * Visualize important dimensions of the data\n",
    "      * Outline a few trends you can see \n",
    "  * Descriptive/Predictive analytics\n",
    "      * Draw conclusions from the data\n",
    "          * This can based on descriptive statistics and/or visualization\n",
    "          * Predictive models (preferred) and carries 10 extra points\n",
    "          \n"
   ]
  },
  {
   "cell_type": "markdown",
   "metadata": {
    "slideshow": {
     "slide_type": "slide"
    }
   },
   "source": [
    "## Capstone project: Grading\n",
    "* Submit a notebook file\n",
    "* Accounts for 40% of the course grade \n",
    "  * 10 points extra credit available to make up for rest of the course\n",
    "* Rubric (total of 40 points)\n",
    "  * Data extraction (15 pts)\n",
    "      * Is the dataset publicly available and downloadable/accessible (5 pts)\n",
    "      * Is the dataset properly described (5 pts)\n",
    "      * Is there code to download the dataset (5 pts)\n",
    "  * Data cleanup (5 pts)\n",
    "      * Is there some cleanup of the dataset (5 pts)\n",
    "      * May include one or all of the following\n",
    "        * renaming columns\n",
    "        * cleaning up/filling in missing values\n",
    "        * selecting subset of relevant columns\n",
    "  * Data visualization (10 pts)\n",
    "      * Visualize important dimensions of the data\n",
    "      * Outline a few trends you can see \n",
    "  * Descriptive/Predictive analytics (10 pts)\n",
    "      * Draw conclusions from the data using descriptive/predictive analysis\n",
    "      * Is your hypothesis supported by data/visualization\n",
    "      * Are there surprising trends in the data"
   ]
  },
  {
   "cell_type": "markdown",
   "metadata": {
    "slideshow": {
     "slide_type": "slide"
    }
   },
   "source": [
    "## Capstone project: Extra credits\n",
    "  * Publish your notebook online on github (10 pts)\n",
    "  * Compare one or more sklearn methods to do predictive analytics on your data (10 pts)\n",
    "  * Max of 10 pts. "
   ]
  }
 ],
 "metadata": {
  "celltoolbar": "Slideshow",
  "kernelspec": {
   "display_name": "Python 2",
   "language": "python",
   "name": "python2"
  },
  "language_info": {
   "codemirror_mode": {
    "name": "ipython",
    "version": 2
   },
   "file_extension": ".py",
   "mimetype": "text/x-python",
   "name": "python",
   "nbconvert_exporter": "python",
   "pygments_lexer": "ipython2",
   "version": "2.7.14"
  }
 },
 "nbformat": 4,
 "nbformat_minor": 2
}
